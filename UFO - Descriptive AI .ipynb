{
 "cells": [
  {
   "cell_type": "markdown",
   "id": "997241d1-1c21-4eb0-a76b-ab73bf14ad53",
   "metadata": {},
   "source": [
    "# Unidentified anomalous phenomenon - Descriptive AI \n",
    "\n",
    "\n",
    "Can you link sightings? assume that  a spaceship on Earth can go top 4 times the speed of sound \n",
    "and the visitors are for a weekend and to three stops.\n"
   ]
  },
  {
   "cell_type": "code",
   "execution_count": 1,
   "id": "e13b05a5-25ab-4547-9369-a69f842982c5",
   "metadata": {},
   "outputs": [],
   "source": [
    "from sklearn.cluster import KMeans\n",
    "import numpy as np\n",
    "import folium\n",
    "import pandas as pd\n",
    "import os\n",
    "import matplotlib.pyplot as plt\n",
    "import oci\n",
    "#\n",
    "os.chdir('/Users/46763/Desktop/Project/ufo')\n",
    "# Specify your Oracle Cloud credentials\n",
    "config = {\n",
    "    \"user\": \"YOUR_USER_OCID\",\n",
    "    \"key_file\": \"path_to_private_key_file\",\n",
    "    \"fingerprint\": \"YOUR_API_KEY_FINGERPRINT\",\n",
    "    \"tenancy\": \"YOUR_TENANCY_OCID\",\n",
    "    \"region\": \"YOUR_REGION\"\n",
    "}"
   ]
  },
  {
   "cell_type": "markdown",
   "id": "88ee5aed-65d5-4ecd-8e5a-95415b17faa6",
   "metadata": {},
   "source": [
    "## Data Preprocessing*\n",
    "Read excel file and romove bad data and make small dataset "
   ]
  },
  {
   "cell_type": "code",
   "execution_count": 3,
   "id": "c38577fc-d413-4a97-9518-b9cdd90e4609",
   "metadata": {},
   "outputs": [],
   "source": [
    "#unidentified_anomalous_phenomenon = pd.read_csv('unidentified_anomalous_phenomenon.csv')\n",
    "\n",
    "unidentified_anomalous_phenomenon = pd.read_excel('excel_unidentified_anomalous_phenomenon.xlsx')\n",
    "#fix columns\n",
    "unidentified_anomalous_phenomenon.columns =  unidentified_anomalous_phenomenon.columns.str.replace(r'\\W+', '', regex=True)\n",
    "unidentified_anomalous_phenomenon.rename(columns={'Kolumn1': 'UAP_spotime'}, inplace=True)"
   ]
  },
  {
   "cell_type": "code",
   "execution_count": 4,
   "id": "65a339ca-5a4f-431f-8eba-a6342e9e705b",
   "metadata": {},
   "outputs": [
    {
     "data": {
      "text/html": [
       "<div>\n",
       "<style scoped>\n",
       "    .dataframe tbody tr th:only-of-type {\n",
       "        vertical-align: middle;\n",
       "    }\n",
       "\n",
       "    .dataframe tbody tr th {\n",
       "        vertical-align: top;\n",
       "    }\n",
       "\n",
       "    .dataframe thead th {\n",
       "        text-align: right;\n",
       "    }\n",
       "</style>\n",
       "<table border=\"1\" class=\"dataframe\">\n",
       "  <thead>\n",
       "    <tr style=\"text-align: right;\">\n",
       "      <th></th>\n",
       "      <th>UAP_spotime</th>\n",
       "      <th>city</th>\n",
       "      <th>state</th>\n",
       "      <th>country</th>\n",
       "      <th>shape</th>\n",
       "      <th>durationseconds</th>\n",
       "      <th>durationhoursmin</th>\n",
       "      <th>comments</th>\n",
       "      <th>dateposted</th>\n",
       "      <th>latitude</th>\n",
       "      <th>longitude</th>\n",
       "    </tr>\n",
       "  </thead>\n",
       "  <tbody>\n",
       "    <tr>\n",
       "      <th>0</th>\n",
       "      <td>1949-10-10 20:30:00</td>\n",
       "      <td>san marcos</td>\n",
       "      <td>tx</td>\n",
       "      <td>us</td>\n",
       "      <td>cylinder</td>\n",
       "      <td>2700.0</td>\n",
       "      <td>45 minutes</td>\n",
       "      <td>This event took place in early fall around 194...</td>\n",
       "      <td>2004-04-27</td>\n",
       "      <td>29.8830556</td>\n",
       "      <td>-97.941111</td>\n",
       "    </tr>\n",
       "    <tr>\n",
       "      <th>1</th>\n",
       "      <td>1949-10-10 21:00:00</td>\n",
       "      <td>lackland afb</td>\n",
       "      <td>tx</td>\n",
       "      <td>NaN</td>\n",
       "      <td>light</td>\n",
       "      <td>7200.0</td>\n",
       "      <td>1-2 hrs</td>\n",
       "      <td>1949 Lackland AFB&amp;#44 TX.  Lights racing acros...</td>\n",
       "      <td>2005-12-16</td>\n",
       "      <td>29.38421</td>\n",
       "      <td>-98.581082</td>\n",
       "    </tr>\n",
       "    <tr>\n",
       "      <th>2</th>\n",
       "      <td>1955-10-10 17:00:00</td>\n",
       "      <td>chester (uk/england)</td>\n",
       "      <td>NaN</td>\n",
       "      <td>gb</td>\n",
       "      <td>circle</td>\n",
       "      <td>20.0</td>\n",
       "      <td>20 seconds</td>\n",
       "      <td>Green/Orange circular disc over Chester&amp;#44 En...</td>\n",
       "      <td>2008-01-21</td>\n",
       "      <td>53.2</td>\n",
       "      <td>-2.916667</td>\n",
       "    </tr>\n",
       "  </tbody>\n",
       "</table>\n",
       "</div>"
      ],
      "text/plain": [
       "          UAP_spotime                  city state country     shape  \\\n",
       "0 1949-10-10 20:30:00            san marcos    tx      us  cylinder   \n",
       "1 1949-10-10 21:00:00          lackland afb    tx     NaN     light   \n",
       "2 1955-10-10 17:00:00  chester (uk/england)   NaN      gb    circle   \n",
       "\n",
       "   durationseconds durationhoursmin  \\\n",
       "0           2700.0       45 minutes   \n",
       "1           7200.0          1-2 hrs   \n",
       "2             20.0       20 seconds   \n",
       "\n",
       "                                            comments dateposted    latitude  \\\n",
       "0  This event took place in early fall around 194... 2004-04-27  29.8830556   \n",
       "1  1949 Lackland AFB&#44 TX.  Lights racing acros... 2005-12-16    29.38421   \n",
       "2  Green/Orange circular disc over Chester&#44 En... 2008-01-21        53.2   \n",
       "\n",
       "   longitude  \n",
       "0 -97.941111  \n",
       "1 -98.581082  \n",
       "2  -2.916667  "
      ]
     },
     "execution_count": 4,
     "metadata": {},
     "output_type": "execute_result"
    }
   ],
   "source": [
    "unidentified_anomalous_phenomenon.head (3)"
   ]
  },
  {
   "cell_type": "code",
   "execution_count": 5,
   "id": "ca9d1492-5eb3-4233-a48c-32d2b637763b",
   "metadata": {},
   "outputs": [],
   "source": [
    "# Clean stuff\n",
    "unidentified_anomalous_phenomenon['latitude'] = pd.to_numeric(unidentified_anomalous_phenomenon['latitude'], errors='coerce')# Remove rows with NaN values in the 'latitude' column\n",
    "unidentified_anomalous_phenomenon = unidentified_anomalous_phenomenon.dropna(subset=['latitude'])\n",
    "# Filter rows where latitude is between -89 and +89\n",
    "unidentified_anomalous_phenomenon = unidentified_anomalous_phenomenon[(unidentified_anomalous_phenomenon['latitude'] > -90) & (unidentified_anomalous_phenomenon['latitude'] < 90 )]\n",
    "\n"
   ]
  },
  {
   "cell_type": "code",
   "execution_count": 6,
   "id": "1104302e-069e-4e13-844a-3c60e1442638",
   "metadata": {},
   "outputs": [],
   "source": [
    "\n",
    "unidentified_anomalous_phenomenon_1klast = unidentified_anomalous_phenomenon.tail(1000)\n",
    "#Trim column names to only include alphanumeric characters (a to z and 0 to 9)\n",
    "unidentified_anomalous_phenomenon.columns = [''.join(filter(str.isalnum, col)) for col in unidentified_anomalous_phenomenon.columns]\n"
   ]
  },
  {
   "cell_type": "code",
   "execution_count": null,
   "id": "e25e1b42-31e8-4656-9de4-955751d1c62f",
   "metadata": {},
   "outputs": [],
   "source": []
  },
  {
   "cell_type": "code",
   "execution_count": 7,
   "id": "c132812e-ded5-4649-95f0-989fbfb0a589",
   "metadata": {},
   "outputs": [
    {
     "data": {
      "text/plain": [
       "Text(0.5, 1.0, 'Histogram of Latitude')"
      ]
     },
     "execution_count": 7,
     "metadata": {},
     "output_type": "execute_result"
    },
    {
     "data": {
      "image/png": "[encoded data removed]",
      "text/plain": [
       "<Figure size 1400x200 with 1 Axes>"
      ]
     },
     "metadata": {},
     "output_type": "display_data"
    }
   ],
   "source": [
    "# Plot histogram for the 'latitude' column\n",
    "plt.figure(figsize=(14, 2))\n",
    "plt.hist(unidentified_anomalous_phenomenon['latitude'], bins=200, color='skyblue', edgecolor='black')\n",
    "# Add labels and title\n",
    "plt.xlabel('Latitude')\n",
    "plt.ylabel('Frequency')\n",
    "plt.title('Histogram of Latitude')"
   ]
  },
  {
   "cell_type": "markdown",
   "id": "20ed0dc2-c805-4c8a-bc0e-5d7eca5f4461",
   "metadata": {},
   "source": [
    "## Feature Engineering:\n",
    "Change +/- 90 to 0-180 and time into days from start. \n",
    "Then add 0-1 value, ratio. "
   ]
  },
  {
   "cell_type": "code",
   "execution_count": 8,
   "id": "37eb5351-e18a-426e-b06c-c9dc848345cf",
   "metadata": {},
   "outputs": [
    {
     "data": {
      "text/html": [
       "<div>\n",
       "<style scoped>\n",
       "    .dataframe tbody tr th:only-of-type {\n",
       "        vertical-align: middle;\n",
       "    }\n",
       "\n",
       "    .dataframe tbody tr th {\n",
       "        vertical-align: top;\n",
       "    }\n",
       "\n",
       "    .dataframe thead th {\n",
       "        text-align: right;\n",
       "    }\n",
       "</style>\n",
       "<table border=\"1\" class=\"dataframe\">\n",
       "  <thead>\n",
       "    <tr style=\"text-align: right;\">\n",
       "      <th></th>\n",
       "      <th>UAPspotime</th>\n",
       "      <th>city</th>\n",
       "      <th>state</th>\n",
       "      <th>country</th>\n",
       "      <th>shape</th>\n",
       "      <th>durationseconds</th>\n",
       "      <th>durationhoursmin</th>\n",
       "      <th>comments</th>\n",
       "      <th>dateposted</th>\n",
       "      <th>latitude</th>\n",
       "      <th>longitude</th>\n",
       "    </tr>\n",
       "  </thead>\n",
       "  <tbody>\n",
       "    <tr>\n",
       "      <th>0</th>\n",
       "      <td>1949-10-10 20:30:00</td>\n",
       "      <td>san marcos</td>\n",
       "      <td>tx</td>\n",
       "      <td>us</td>\n",
       "      <td>cylinder</td>\n",
       "      <td>2700.0</td>\n",
       "      <td>45 minutes</td>\n",
       "      <td>This event took place in early fall around 194...</td>\n",
       "      <td>2004-04-27</td>\n",
       "      <td>29.883056</td>\n",
       "      <td>-97.941111</td>\n",
       "    </tr>\n",
       "    <tr>\n",
       "      <th>1</th>\n",
       "      <td>1949-10-10 21:00:00</td>\n",
       "      <td>lackland afb</td>\n",
       "      <td>tx</td>\n",
       "      <td>NaN</td>\n",
       "      <td>light</td>\n",
       "      <td>7200.0</td>\n",
       "      <td>1-2 hrs</td>\n",
       "      <td>1949 Lackland AFB&amp;#44 TX.  Lights racing acros...</td>\n",
       "      <td>2005-12-16</td>\n",
       "      <td>29.384210</td>\n",
       "      <td>-98.581082</td>\n",
       "    </tr>\n",
       "    <tr>\n",
       "      <th>2</th>\n",
       "      <td>1955-10-10 17:00:00</td>\n",
       "      <td>chester (uk/england)</td>\n",
       "      <td>NaN</td>\n",
       "      <td>gb</td>\n",
       "      <td>circle</td>\n",
       "      <td>20.0</td>\n",
       "      <td>20 seconds</td>\n",
       "      <td>Green/Orange circular disc over Chester&amp;#44 En...</td>\n",
       "      <td>2008-01-21</td>\n",
       "      <td>53.200000</td>\n",
       "      <td>-2.916667</td>\n",
       "    </tr>\n",
       "  </tbody>\n",
       "</table>\n",
       "</div>"
      ],
      "text/plain": [
       "           UAPspotime                  city state country     shape  \\\n",
       "0 1949-10-10 20:30:00            san marcos    tx      us  cylinder   \n",
       "1 1949-10-10 21:00:00          lackland afb    tx     NaN     light   \n",
       "2 1955-10-10 17:00:00  chester (uk/england)   NaN      gb    circle   \n",
       "\n",
       "   durationseconds durationhoursmin  \\\n",
       "0           2700.0       45 minutes   \n",
       "1           7200.0          1-2 hrs   \n",
       "2             20.0       20 seconds   \n",
       "\n",
       "                                            comments dateposted   latitude  \\\n",
       "0  This event took place in early fall around 194... 2004-04-27  29.883056   \n",
       "1  1949 Lackland AFB&#44 TX.  Lights racing acros... 2005-12-16  29.384210   \n",
       "2  Green/Orange circular disc over Chester&#44 En... 2008-01-21  53.200000   \n",
       "\n",
       "   longitude  \n",
       "0 -97.941111  \n",
       "1 -98.581082  \n",
       "2  -2.916667  "
      ]
     },
     "execution_count": 8,
     "metadata": {},
     "output_type": "execute_result"
    }
   ],
   "source": [
    "unidentified_anomalous_phenomenon.head (3)"
   ]
  },
  {
   "cell_type": "code",
   "execution_count": 9,
   "id": "99c0c34d-dd77-47aa-97b5-a854326af883",
   "metadata": {},
   "outputs": [
    {
     "data": {
      "text/plain": [
       "Text(0.5, 1.0, 'Histogram of UAP_daysstartstop')"
      ]
     },
     "execution_count": 9,
     "metadata": {},
     "output_type": "execute_result"
    },
    {
     "data": {
      "image/png": "[encoded data removed]",
      "text/plain": [
       "<Figure size 1400x200 with 1 Axes>"
      ]
     },
     "metadata": {},
     "output_type": "display_data"
    }
   ],
   "source": [
    "# Find the minimum date in the datetime column\n",
    "min_date = unidentified_anomalous_phenomenon['UAPspotime'].min()\n",
    "unidentified_anomalous_phenomenon['UAP_daysstartstop'] = (unidentified_anomalous_phenomenon['UAPspotime'] - min_date).dt.days\n",
    "# Plot histogram for the 'latitude' column\n",
    "plt.figure(figsize=(14, 2))\n",
    "plt.hist(unidentified_anomalous_phenomenon['UAP_daysstartstop'], bins=200, color='skyblue', edgecolor='black')\n",
    "# Add labels and title\n",
    "plt.xlabel('UAP_daysstartstop')\n",
    "plt.ylabel('Frequency')\n",
    "plt.title('Histogram of UAP_daysstartstop')"
   ]
  },
  {
   "cell_type": "code",
   "execution_count": null,
   "id": "5bbf3c5f-effc-4427-821c-49ab3f566bb4",
   "metadata": {},
   "outputs": [],
   "source": []
  },
  {
   "cell_type": "code",
   "execution_count": 10,
   "id": "610b9494-9581-4a99-b6a1-1f3d69b12642",
   "metadata": {},
   "outputs": [
    {
     "data": {
      "image/png": "[encoded data removed]",
      "text/plain": [
       "<Figure size 1000x500 with 2 Axes>"
      ]
     },
     "metadata": {},
     "output_type": "display_data"
    }
   ],
   "source": [
    "# Create a figure with two subplots\n",
    "plt.figure(figsize=(10, 5))\n",
    "\n",
    "# Subplot for the 'latitude' column\n",
    "plt.subplot(2, 1, 1)\n",
    "plt.hist(unidentified_anomalous_phenomenon['UAP_daysstartstop'], bins=200, color='skyblue', edgecolor='black')\n",
    "plt.xlabel('Days')\n",
    "plt.ylabel('UAP_daysstartstop')\n",
    "plt.title('Histogram of UAP_daysstartstop')\n",
    "\n",
    "# Subplot for the 'scaled_latitude' column\n",
    "plt.subplot(2, 1, 2)\n",
    "plt.hist(unidentified_anomalous_phenomenon['UAPspotime'], bins=200, color='orange', edgecolor='black')\n",
    "plt.xlabel('Scaled UAPspotime')\n",
    "plt.ylabel('Frequency')\n",
    "plt.title('Histogram of UAPspotime')\n",
    "\n",
    "# Add vertical line\n",
    "#plt.axvline(x=0.1, color='red', linestyle='--')\n",
    "plt.axvline(x=8600)\n",
    "# Add text annotation\n",
    "plt.text(29, 3500, 'The X-Files. The episode aired on September 10, 1993, ')\n",
    "\n",
    "# Adjust layout to prevent overlap\n",
    "plt.tight_layout()\n",
    "\n",
    "plt.show()"
   ]
  },
  {
   "cell_type": "markdown",
   "id": "fc233d18-b747-4ef9-ba7a-d685360136d1",
   "metadata": {},
   "source": [
    "\"Närkontakt av tredje graden\" (Close Encounters of the Third Kind) - 1977\r\n",
    "\"ET - den lilla utomjordingen\" (E.T. the Extra-Terrestrial) - 1982\r\n",
    "\"Independence Day\" - 1996\r\n",
    "\"War of the Worlds\" (filmatiseringar inklusive Steven Spielbergs version från 2005) - År 2005 för Spielbergs version\r\n",
    "\"The X-Files\" (TV-serie) - 1993-2002\r\n",
    "\"The War of the Worlds\" (radioprogram av Orson Welles) - 1938"
   ]
  },
  {
   "cell_type": "code",
   "execution_count": 123,
   "id": "bc1ea50f-af64-4ca5-86a0-b4a15842d13f",
   "metadata": {},
   "outputs": [
    {
     "data": {
      "text/html": [
       "<div>\n",
       "<style scoped>\n",
       "    .dataframe tbody tr th:only-of-type {\n",
       "        vertical-align: middle;\n",
       "    }\n",
       "\n",
       "    .dataframe tbody tr th {\n",
       "        vertical-align: top;\n",
       "    }\n",
       "\n",
       "    .dataframe thead th {\n",
       "        text-align: right;\n",
       "    }\n",
       "</style>\n",
       "<table border=\"1\" class=\"dataframe\">\n",
       "  <thead>\n",
       "    <tr style=\"text-align: right;\">\n",
       "      <th></th>\n",
       "      <th>UAPspotime</th>\n",
       "      <th>city</th>\n",
       "      <th>state</th>\n",
       "      <th>country</th>\n",
       "      <th>shape</th>\n",
       "      <th>durationseconds</th>\n",
       "      <th>durationhoursmin</th>\n",
       "      <th>comments</th>\n",
       "      <th>dateposted</th>\n",
       "      <th>latitude</th>\n",
       "      <th>longitude</th>\n",
       "      <th>UAP_daysstartstop</th>\n",
       "      <th>scaled_latitude</th>\n",
       "      <th>scaled_longitude</th>\n",
       "    </tr>\n",
       "  </thead>\n",
       "  <tbody>\n",
       "    <tr>\n",
       "      <th>0</th>\n",
       "      <td>1949-10-10 20:30:00</td>\n",
       "      <td>san marcos</td>\n",
       "      <td>tx</td>\n",
       "      <td>us</td>\n",
       "      <td>cylinder</td>\n",
       "      <td>2700.0</td>\n",
       "      <td>45 minutes</td>\n",
       "      <td>This event took place in early fall around 194...</td>\n",
       "      <td>2004-04-27</td>\n",
       "      <td>29.883056</td>\n",
       "      <td>-97.941111</td>\n",
       "      <td>15674.0</td>\n",
       "      <td>0.724761</td>\n",
       "      <td>0.221675</td>\n",
       "    </tr>\n",
       "    <tr>\n",
       "      <th>1</th>\n",
       "      <td>1949-10-10 21:00:00</td>\n",
       "      <td>lackland afb</td>\n",
       "      <td>tx</td>\n",
       "      <td>NaN</td>\n",
       "      <td>light</td>\n",
       "      <td>7200.0</td>\n",
       "      <td>1-2 hrs</td>\n",
       "      <td>1949 Lackland AFB&amp;#44 TX.  Lights racing acros...</td>\n",
       "      <td>2005-12-16</td>\n",
       "      <td>29.384210</td>\n",
       "      <td>-98.581082</td>\n",
       "      <td>15674.0</td>\n",
       "      <td>0.721554</td>\n",
       "      <td>0.219873</td>\n",
       "    </tr>\n",
       "    <tr>\n",
       "      <th>2</th>\n",
       "      <td>1955-10-10 17:00:00</td>\n",
       "      <td>chester (uk/england)</td>\n",
       "      <td>NaN</td>\n",
       "      <td>gb</td>\n",
       "      <td>circle</td>\n",
       "      <td>20.0</td>\n",
       "      <td>20 seconds</td>\n",
       "      <td>Green/Orange circular disc over Chester&amp;#44 En...</td>\n",
       "      <td>2008-01-21</td>\n",
       "      <td>53.200000</td>\n",
       "      <td>-2.916667</td>\n",
       "      <td>17865.0</td>\n",
       "      <td>0.874649</td>\n",
       "      <td>0.489275</td>\n",
       "    </tr>\n",
       "  </tbody>\n",
       "</table>\n",
       "</div>"
      ],
      "text/plain": [
       "           UAPspotime                  city state country     shape  \\\n",
       "0 1949-10-10 20:30:00            san marcos    tx      us  cylinder   \n",
       "1 1949-10-10 21:00:00          lackland afb    tx     NaN     light   \n",
       "2 1955-10-10 17:00:00  chester (uk/england)   NaN      gb    circle   \n",
       "\n",
       "   durationseconds durationhoursmin  \\\n",
       "0           2700.0       45 minutes   \n",
       "1           7200.0          1-2 hrs   \n",
       "2             20.0       20 seconds   \n",
       "\n",
       "                                            comments dateposted   latitude  \\\n",
       "0  This event took place in early fall around 194... 2004-04-27  29.883056   \n",
       "1  1949 Lackland AFB&#44 TX.  Lights racing acros... 2005-12-16  29.384210   \n",
       "2  Green/Orange circular disc over Chester&#44 En... 2008-01-21  53.200000   \n",
       "\n",
       "   longitude  UAP_daysstartstop  scaled_latitude  scaled_longitude  \n",
       "0 -97.941111            15674.0         0.724761          0.221675  \n",
       "1 -98.581082            15674.0         0.721554          0.219873  \n",
       "2  -2.916667            17865.0         0.874649          0.489275  "
      ]
     },
     "execution_count": 123,
     "metadata": {},
     "output_type": "execute_result"
    }
   ],
   "source": [
    "from sklearn.preprocessing import MinMaxScaler\n",
    "\n",
    "scaler = MinMaxScaler()\n",
    "\n",
    "# Extract latitude and longitude columns\n",
    "latitude_longitude_data = unidentified_anomalous_phenomenon[['latitude', 'longitude']]\n",
    "\n",
    "# Create an instance of MinMaxScaler\n",
    "scaler = MinMaxScaler()\n",
    "scaled_data = scaler.fit_transform(latitude_longitude_data)\n",
    "\n",
    "# Create a DataFrame with scaled latitude and longitude\n",
    "scaled_df = pd.DataFrame(scaled_data, columns=['scaled_latitude', 'scaled_longitude'])\n",
    "\n",
    "# Concatenate the scaled DataFrame with the original DataFrame\n",
    "unidentified_anomalous_phenomenon = pd.concat([unidentified_anomalous_phenomenon, scaled_df], axis=1)\n",
    "\n",
    "# Print the result\n",
    "unidentified_anomalous_phenomenon.head (3)"
   ]
  },
  {
   "cell_type": "code",
   "execution_count": 94,
   "id": "e5a0d9af-b9ca-4352-91bc-7156a9ec2d21",
   "metadata": {},
   "outputs": [
    {
     "data": {
      "image/png": "[encoded data removed]",
      "text/plain": [
       "<Figure size 1000x500 with 2 Axes>"
      ]
     },
     "metadata": {},
     "output_type": "display_data"
    }
   ],
   "source": [
    "# Create a figure with two subplots\n",
    "plt.figure(figsize=(10, 5))\n",
    "\n",
    "# Subplot for the 'latitude' column\n",
    "plt.subplot(2, 1, 1)\n",
    "plt.hist(unidentified_anomalous_phenomenon['latitude'], bins=200, color='skyblue', edgecolor='black')\n",
    "plt.xlabel('Latitude')\n",
    "plt.ylabel('Frequency')\n",
    "plt.title('Histogram of Latitude')\n",
    "\n",
    "# Subplot for the 'scaled_latitude' column\n",
    "plt.subplot(2, 1, 2)\n",
    "plt.hist(unidentified_anomalous_phenomenon['scaled_latitude'], bins=200, color='orange', edgecolor='black')\n",
    "plt.xlabel('Scaled Latitude')\n",
    "plt.ylabel('Frequency')\n",
    "plt.title('Histogram of Scaled Latitude')\n",
    "\n",
    "# Adjust layout to prevent overlap\n",
    "plt.tight_layout()\n",
    "\n",
    "plt.show()"
   ]
  },
  {
   "cell_type": "code",
   "execution_count": null,
   "id": "49612365-8660-44e5-9cb7-617a141e55fc",
   "metadata": {},
   "outputs": [],
   "source": [
    "# Plot histogram for the 'latitude' column\n",
    "plt.hist(unidentified_anomalous_phenomenon['latitude'], bins=200, color='skyblue', edgecolor='black')\n",
    "# Add labels and title\n",
    "plt.xlabel('Latitude')\n",
    "plt.ylabel('Frequency')\n",
    "plt.title('Histogram of Latitude')"
   ]
  },
  {
   "cell_type": "code",
   "execution_count": 53,
   "id": "bd47947a-d981-48fd-987f-7c2e2690fbbf",
   "metadata": {},
   "outputs": [
    {
     "data": {
      "text/plain": [
       "Kolumn1             datetime64[ns]\n",
       "city                        object\n",
       "state                       object\n",
       "country                     object\n",
       "shape                       object\n",
       "durationseconds            float64\n",
       "durationhoursmin            object\n",
       "comments                    object\n",
       "dateposted          datetime64[ns]\n",
       "latitude                   float64\n",
       "longitude                  float64\n",
       "dtype: object"
      ]
     },
     "execution_count": 53,
     "metadata": {},
     "output_type": "execute_result"
    }
   ],
   "source": [
    "unidentified_anomalous_phenomenon.dtypes "
   ]
  },
  {
   "cell_type": "code",
   "execution_count": 55,
   "id": "74e71944-2d7d-45c1-ad93-1d30b6f95cad",
   "metadata": {},
   "outputs": [],
   "source": [
    "# Add markers to the map for each point in the DataFrame\n",
    "for index, row in unidentified_anomalous_phenomenon_1klast.iterrows():\n",
    "    folium.Marker(location=[row['latitude'], row['longitude']], popup=f'Point {index+1}').add_to(mymap)\n",
    "\n",
    "# Save the map to an HTML file\n",
    "mymap.save('markers_map.html')"
   ]
  },
  {
   "cell_type": "code",
   "execution_count": 44,
   "id": "ac04618f-9949-4680-b822-a87a33abe06e",
   "metadata": {},
   "outputs": [
    {
     "name": "stderr",
     "output_type": "stream",
     "text": [
      "C:\\Users\\46763\\AppData\\Local\\Programs\\Python\\Python312\\Lib\\site-packages\\sklearn\\cluster\\_kmeans.py:1416: FutureWarning: The default value of `n_init` will change from 10 to 'auto' in 1.4. Set the value of `n_init` explicitly to suppress the warning\n",
      "  super()._check_params_vs_input(X, default_n_init=10)\n"
     ]
    },
    {
     "ename": "KeyError",
     "evalue": "'longitude'",
     "output_type": "error",
     "traceback": [
      "\u001b[1;31m---------------------------------------------------------------------------\u001b[0m",
      "\u001b[1;31mKeyError\u001b[0m                                  Traceback (most recent call last)",
      "File \u001b[1;32m~\\AppData\\Local\\Programs\\Python\\Python312\\Lib\\site-packages\\pandas\\core\\indexes\\base.py:3790\u001b[0m, in \u001b[0;36mIndex.get_loc\u001b[1;34m(self, key)\u001b[0m\n\u001b[0;32m   3789\u001b[0m \u001b[38;5;28;01mtry\u001b[39;00m:\n\u001b[1;32m-> 3790\u001b[0m     \u001b[38;5;28;01mreturn\u001b[39;00m \u001b[38;5;28;43mself\u001b[39;49m\u001b[38;5;241;43m.\u001b[39;49m\u001b[43m_engine\u001b[49m\u001b[38;5;241;43m.\u001b[39;49m\u001b[43mget_loc\u001b[49m\u001b[43m(\u001b[49m\u001b[43mcasted_key\u001b[49m\u001b[43m)\u001b[49m\n\u001b[0;32m   3791\u001b[0m \u001b[38;5;28;01mexcept\u001b[39;00m \u001b[38;5;167;01mKeyError\u001b[39;00m \u001b[38;5;28;01mas\u001b[39;00m err:\n",
      "File \u001b[1;32mindex.pyx:152\u001b[0m, in \u001b[0;36mpandas._libs.index.IndexEngine.get_loc\u001b[1;34m()\u001b[0m\n",
      "File \u001b[1;32mindex.pyx:181\u001b[0m, in \u001b[0;36mpandas._libs.index.IndexEngine.get_loc\u001b[1;34m()\u001b[0m\n",
      "File \u001b[1;32mpandas\\_libs\\hashtable_class_helper.pxi:7080\u001b[0m, in \u001b[0;36mpandas._libs.hashtable.PyObjectHashTable.get_item\u001b[1;34m()\u001b[0m\n",
      "File \u001b[1;32mpandas\\_libs\\hashtable_class_helper.pxi:7088\u001b[0m, in \u001b[0;36mpandas._libs.hashtable.PyObjectHashTable.get_item\u001b[1;34m()\u001b[0m\n",
      "\u001b[1;31mKeyError\u001b[0m: 'longitude'",
      "\nThe above exception was the direct cause of the following exception:\n",
      "\u001b[1;31mKeyError\u001b[0m                                  Traceback (most recent call last)",
      "Cell \u001b[1;32mIn[44], line 55\u001b[0m\n\u001b[0;32m     53\u001b[0m \u001b[38;5;66;03m# Add vehicle markers to the map\u001b[39;00m\n\u001b[0;32m     54\u001b[0m \u001b[38;5;28;01mfor\u001b[39;00m i, vehicle \u001b[38;5;129;01min\u001b[39;00m unidentified_anomalous_phenomenon_1klast\u001b[38;5;241m.\u001b[39miterrows():\n\u001b[1;32m---> 55\u001b[0m     folium\u001b[38;5;241m.\u001b[39mMarker(location\u001b[38;5;241m=\u001b[39m[vehicle[\u001b[38;5;124m'\u001b[39m\u001b[38;5;124mlatitude\u001b[39m\u001b[38;5;124m'\u001b[39m], \u001b[43mvehicle\u001b[49m\u001b[43m[\u001b[49m\u001b[38;5;124;43m'\u001b[39;49m\u001b[38;5;124;43mlongitude\u001b[39;49m\u001b[38;5;124;43m'\u001b[39;49m\u001b[43m]\u001b[49m], popup\u001b[38;5;241m=\u001b[39m\u001b[38;5;124mf\u001b[39m\u001b[38;5;124m'\u001b[39m\u001b[38;5;124mVehicle \u001b[39m\u001b[38;5;132;01m{\u001b[39;00mi\u001b[38;5;241m+\u001b[39m\u001b[38;5;241m1\u001b[39m\u001b[38;5;132;01m}\u001b[39;00m\u001b[38;5;124m'\u001b[39m, icon\u001b[38;5;241m=\u001b[39mfolium\u001b[38;5;241m.\u001b[39mIcon(color\u001b[38;5;241m=\u001b[39m\u001b[38;5;124m'\u001b[39m\u001b[38;5;124mgray\u001b[39m\u001b[38;5;124m'\u001b[39m))\u001b[38;5;241m.\u001b[39madd_to(mymap)\n\u001b[0;32m     57\u001b[0m \u001b[38;5;66;03m# Save the map to an HTML file\u001b[39;00m\n\u001b[0;32m     58\u001b[0m mymap\u001b[38;5;241m.\u001b[39msave(\u001b[38;5;124m'\u001b[39m\u001b[38;5;124mclusters_map.html\u001b[39m\u001b[38;5;124m'\u001b[39m)\n",
      "File \u001b[1;32m~\\AppData\\Local\\Programs\\Python\\Python312\\Lib\\site-packages\\pandas\\core\\series.py:1040\u001b[0m, in \u001b[0;36mSeries.__getitem__\u001b[1;34m(self, key)\u001b[0m\n\u001b[0;32m   1037\u001b[0m     \u001b[38;5;28;01mreturn\u001b[39;00m \u001b[38;5;28mself\u001b[39m\u001b[38;5;241m.\u001b[39m_values[key]\n\u001b[0;32m   1039\u001b[0m \u001b[38;5;28;01melif\u001b[39;00m key_is_scalar:\n\u001b[1;32m-> 1040\u001b[0m     \u001b[38;5;28;01mreturn\u001b[39;00m \u001b[38;5;28;43mself\u001b[39;49m\u001b[38;5;241;43m.\u001b[39;49m\u001b[43m_get_value\u001b[49m\u001b[43m(\u001b[49m\u001b[43mkey\u001b[49m\u001b[43m)\u001b[49m\n\u001b[0;32m   1042\u001b[0m \u001b[38;5;66;03m# Convert generator to list before going through hashable part\u001b[39;00m\n\u001b[0;32m   1043\u001b[0m \u001b[38;5;66;03m# (We will iterate through the generator there to check for slices)\u001b[39;00m\n\u001b[0;32m   1044\u001b[0m \u001b[38;5;28;01mif\u001b[39;00m is_iterator(key):\n",
      "File \u001b[1;32m~\\AppData\\Local\\Programs\\Python\\Python312\\Lib\\site-packages\\pandas\\core\\series.py:1156\u001b[0m, in \u001b[0;36mSeries._get_value\u001b[1;34m(self, label, takeable)\u001b[0m\n\u001b[0;32m   1153\u001b[0m     \u001b[38;5;28;01mreturn\u001b[39;00m \u001b[38;5;28mself\u001b[39m\u001b[38;5;241m.\u001b[39m_values[label]\n\u001b[0;32m   1155\u001b[0m \u001b[38;5;66;03m# Similar to Index.get_value, but we do not fall back to positional\u001b[39;00m\n\u001b[1;32m-> 1156\u001b[0m loc \u001b[38;5;241m=\u001b[39m \u001b[38;5;28;43mself\u001b[39;49m\u001b[38;5;241;43m.\u001b[39;49m\u001b[43mindex\u001b[49m\u001b[38;5;241;43m.\u001b[39;49m\u001b[43mget_loc\u001b[49m\u001b[43m(\u001b[49m\u001b[43mlabel\u001b[49m\u001b[43m)\u001b[49m\n\u001b[0;32m   1158\u001b[0m \u001b[38;5;28;01mif\u001b[39;00m is_integer(loc):\n\u001b[0;32m   1159\u001b[0m     \u001b[38;5;28;01mreturn\u001b[39;00m \u001b[38;5;28mself\u001b[39m\u001b[38;5;241m.\u001b[39m_values[loc]\n",
      "File \u001b[1;32m~\\AppData\\Local\\Programs\\Python\\Python312\\Lib\\site-packages\\pandas\\core\\indexes\\base.py:3797\u001b[0m, in \u001b[0;36mIndex.get_loc\u001b[1;34m(self, key)\u001b[0m\n\u001b[0;32m   3792\u001b[0m     \u001b[38;5;28;01mif\u001b[39;00m \u001b[38;5;28misinstance\u001b[39m(casted_key, \u001b[38;5;28mslice\u001b[39m) \u001b[38;5;129;01mor\u001b[39;00m (\n\u001b[0;32m   3793\u001b[0m         \u001b[38;5;28misinstance\u001b[39m(casted_key, abc\u001b[38;5;241m.\u001b[39mIterable)\n\u001b[0;32m   3794\u001b[0m         \u001b[38;5;129;01mand\u001b[39;00m \u001b[38;5;28many\u001b[39m(\u001b[38;5;28misinstance\u001b[39m(x, \u001b[38;5;28mslice\u001b[39m) \u001b[38;5;28;01mfor\u001b[39;00m x \u001b[38;5;129;01min\u001b[39;00m casted_key)\n\u001b[0;32m   3795\u001b[0m     ):\n\u001b[0;32m   3796\u001b[0m         \u001b[38;5;28;01mraise\u001b[39;00m InvalidIndexError(key)\n\u001b[1;32m-> 3797\u001b[0m     \u001b[38;5;28;01mraise\u001b[39;00m \u001b[38;5;167;01mKeyError\u001b[39;00m(key) \u001b[38;5;28;01mfrom\u001b[39;00m \u001b[38;5;21;01merr\u001b[39;00m\n\u001b[0;32m   3798\u001b[0m \u001b[38;5;28;01mexcept\u001b[39;00m \u001b[38;5;167;01mTypeError\u001b[39;00m:\n\u001b[0;32m   3799\u001b[0m     \u001b[38;5;66;03m# If we have a listlike key, _check_indexing_error will raise\u001b[39;00m\n\u001b[0;32m   3800\u001b[0m     \u001b[38;5;66;03m#  InvalidIndexError. Otherwise we fall through and re-raise\u001b[39;00m\n\u001b[0;32m   3801\u001b[0m     \u001b[38;5;66;03m#  the TypeError.\u001b[39;00m\n\u001b[0;32m   3802\u001b[0m     \u001b[38;5;28mself\u001b[39m\u001b[38;5;241m.\u001b[39m_check_indexing_error(key)\n",
      "\u001b[1;31mKeyError\u001b[0m: 'longitude'"
     ]
    }
   ],
   "source": [
    "\n",
    "\n",
    "# Haversine distance function for computing distances between two points on Earth's surface\n",
    "def haversine(lat1, lon1, lat2, lon2):\n",
    "    R = 6371.0  # Earth radius in kilometers\n",
    "\n",
    "    lat1_rad = np.radians(lat1)\n",
    "    lon1_rad = np.radians(lon1)\n",
    "    lat2_rad = np.radians(lat2)\n",
    "    lon2_rad = np.radians(lon2)\n",
    "\n",
    "    dlon = lon2_rad - lon1_rad\n",
    "    dlat = lat2_rad - lat1_rad\n",
    "\n",
    "    a = np.sin(dlat / 2)**2 + np.cos(lat1_rad) * np.cos(lat2_rad) * np.sin(dlon / 2)**2\n",
    "    c = 2 * np.arctan2(np.sqrt(a), np.sqrt(1 - a))\n",
    "\n",
    "    distance = R * c\n",
    "    return distance\n",
    "\n",
    "# Sample data: list of (latitude, longitude, timestamp) tuples representing vehicle locations and timestamps\n",
    "vehicle_data = [\n",
    "    (40.7128, -74.0060, 1),  # Example latitude and longitude coordinates for New York City\n",
    "    (34.0522, -118.2437, 2), # Example latitude and longitude coordinates for Los Angeles\n",
    "    (40.7128, -74.0060, 3),\n",
    "    (37.7749, -122.4194, 4), # Example latitude and longitude coordinates for San Francisco\n",
    "    (34.0522, -118.2437, 5),\n",
    "    (40.7128, -74.0060, 6),\n",
    "]\n",
    "\n",
    "# Extract spatial coordinates for clustering\n",
    "spatial_coords = np.array([(lat, lon) for lat, lon, _ in vehicle_data])\n",
    "\n",
    "# Perform K-means clustering\n",
    "num_clusters = 2  # Number of clusters\n",
    "kmeans = KMeans(n_clusters=num_clusters)\n",
    "kmeans.fit(spatial_coords)\n",
    "\n",
    "# Retrieve cluster centers\n",
    "cluster_centers = kmeans.cluster_centers_\n",
    "\n",
    "# Map each vehicle to its nearest cluster center\n",
    "cluster_assignments = kmeans.predict(spatial_coords)\n",
    "\n",
    "# Create a folium map centered on the mean latitude and longitude of the data points\n",
    "mean_lat = np.mean(spatial_coords[:, 0])\n",
    "mean_lon = np.mean(spatial_coords[:, 1])\n",
    "mymap = folium.Map(location=[mean_lat, mean_lon], zoom_start=5)\n",
    "\n",
    "# Add cluster markers to the map\n",
    "colors = ['red', 'blue', 'green', 'orange', 'purple', 'darkred', 'lightred', 'beige', 'darkblue', 'darkgreen']\n",
    "for i, center in enumerate(cluster_centers):\n",
    "    folium.Marker(location=[center[0], center[1]], popup=f'Cluster {i+1}', icon=folium.Icon(color=colors[i%len(colors)])).add_to(mymap)\n",
    "\n",
    "# Add vehicle markers to the map\n",
    "for i, vehicle in unidentified_anomalous_phenomenon_1klast.iterrows():\n",
    "    folium.Marker(location=[vehicle['latitude'], vehicle['longitude']], popup=f'Vehicle {i+1}', icon=folium.Icon(color='gray')).add_to(mymap)\n",
    "\n",
    "# Save the map to an HTML file\n",
    "mymap.save('clusters_map.html')\n"
   ]
  },
  {
   "cell_type": "code",
   "execution_count": 4,
   "id": "d5452133-3cbb-4af0-8891-99edb6f9a0f1",
   "metadata": {},
   "outputs": [
    {
     "data": {
      "text/plain": [
       "1560000"
      ]
     },
     "execution_count": 4,
     "metadata": {},
     "output_type": "execute_result"
    }
   ],
   "source": [
    "130000*12\n"
   ]
  },
  {
   "cell_type": "code",
   "execution_count": 2,
   "id": "7bd0c00f-70d5-460e-8a82-e2749d16ff15",
   "metadata": {},
   "outputs": [
    {
     "ename": "NameError",
     "evalue": "name 'sqr' is not defined",
     "output_type": "error",
     "traceback": [
      "\u001b[1;31m---------------------------------------------------------------------------\u001b[0m",
      "\u001b[1;31mNameError\u001b[0m                                 Traceback (most recent call last)",
      "Cell \u001b[1;32mIn[2], line 1\u001b[0m\n\u001b[1;32m----> 1\u001b[0m \u001b[43msqr\u001b[49m(\u001b[38;5;241m6\u001b[39m)\n",
      "\u001b[1;31mNameError\u001b[0m: name 'sqr' is not defined"
     ]
    }
   ],
   "source": [
    "sqr(6)"
   ]
  },
  {
   "cell_type": "code",
   "execution_count": 3,
   "id": "ce27cdfa-848f-4e83-83e2-93059b033936",
   "metadata": {},
   "outputs": [
    {
     "ename": "NameError",
     "evalue": "name 'np' is not defined",
     "output_type": "error",
     "traceback": [
      "\u001b[1;31m---------------------------------------------------------------------------\u001b[0m",
      "\u001b[1;31mNameError\u001b[0m                                 Traceback (most recent call last)",
      "Cell \u001b[1;32mIn[3], line 1\u001b[0m\n\u001b[1;32m----> 1\u001b[0m \u001b[43mnp\u001b[49m\u001b[38;5;241m.\u001b[39msqr(\u001b[38;5;241m6\u001b[39m)\n",
      "\u001b[1;31mNameError\u001b[0m: name 'np' is not defined"
     ]
    }
   ],
   "source": [
    "np.sqr(6)"
   ]
  },
  {
   "cell_type": "code",
   "execution_count": null,
   "id": "844b9be4-c6e1-4db5-94ea-d4c6ee1d1629",
   "metadata": {},
   "outputs": [],
   "source": []
  }
 ],
 "metadata": {
  "kernelspec": {
   "display_name": "Python 3 (ipykernel)",
   "language": "python",
   "name": "python3"
  },
  "language_info": {
   "codemirror_mode": {
    "name": "ipython",
    "version": 3
   },
   "file_extension": ".py",
   "mimetype": "text/x-python",
   "name": "python",
   "nbconvert_exporter": "python",
   "pygments_lexer": "ipython3",
   "version": "3.12.0"
  }
 },
 "nbformat": 4,
 "nbformat_minor": 5
}
